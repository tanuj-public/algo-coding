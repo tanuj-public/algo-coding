{
 "cells": [
  {
   "cell_type": "code",
   "execution_count": 6,
   "id": "4486b8ae",
   "metadata": {},
   "outputs": [],
   "source": [
    "# simple Binary search implementation\n",
    "\n",
    "def binary_search(arr,target):\n",
    "    left, right = 0 , len(arr) - 1 # start with left and right pointers\n",
    "    while left <= right:\n",
    "        mid = (left + right) // 2  # find the middle element.\n",
    "        if arr[mid] == target:\n",
    "            return mid\n",
    "        elif arr[mid] < target:\n",
    "            left = mid + 1\n",
    "        else:\n",
    "            right = mid - 1\n",
    "    return -1\n"
   ]
  },
  {
   "cell_type": "code",
   "execution_count": 9,
   "id": "2608f22c",
   "metadata": {},
   "outputs": [
    {
     "name": "stdout",
     "output_type": "stream",
     "text": [
      "Index of the target in the given array is: 7\n"
     ]
    }
   ],
   "source": [
    "arr = [1,2,3,5,6,8,11,23,45,67,89,112,223,445,665,77656]\n",
    "\n",
    "print(f\"Index of the target in the given array is: {binary_search(arr, 23)}\")"
   ]
  }
 ],
 "metadata": {
  "kernelspec": {
   "display_name": ".venv",
   "language": "python",
   "name": "python3"
  },
  "language_info": {
   "codemirror_mode": {
    "name": "ipython",
    "version": 3
   },
   "file_extension": ".py",
   "mimetype": "text/x-python",
   "name": "python",
   "nbconvert_exporter": "python",
   "pygments_lexer": "ipython3",
   "version": "3.12.3"
  }
 },
 "nbformat": 4,
 "nbformat_minor": 5
}
